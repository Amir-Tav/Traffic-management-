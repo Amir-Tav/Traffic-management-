{
 "cells": [
  {
   "cell_type": "markdown",
   "metadata": {},
   "source": [
    "### Load Required Libraries\n",
    "This cell imports all necessary libraries for data processing, geospatial operations, and numerical computations."
   ]
  },
  {
   "cell_type": "code",
   "execution_count": 3,
   "id": "load-datasets",
   "metadata": {},
   "outputs": [
    {
     "ename": "ModuleNotFoundError",
     "evalue": "No module named 'pandas'",
     "output_type": "error",
     "traceback": [
      "\u001b[1;31m---------------------------------------------------------------------------\u001b[0m",
      "\u001b[1;31mModuleNotFoundError\u001b[0m                       Traceback (most recent call last)",
      "Cell \u001b[1;32mIn[3], line 1\u001b[0m\n\u001b[1;32m----> 1\u001b[0m \u001b[38;5;28;01mimport\u001b[39;00m \u001b[38;5;21;01mpandas\u001b[39;00m \u001b[38;5;28;01mas\u001b[39;00m \u001b[38;5;21;01mpd\u001b[39;00m\n\u001b[0;32m      2\u001b[0m \u001b[38;5;28;01mimport\u001b[39;00m \u001b[38;5;21;01mgeopandas\u001b[39;00m \u001b[38;5;28;01mas\u001b[39;00m \u001b[38;5;21;01mgpd\u001b[39;00m\n\u001b[0;32m      3\u001b[0m \u001b[38;5;28;01mfrom\u001b[39;00m \u001b[38;5;21;01mshapely\u001b[39;00m\u001b[38;5;21;01m.\u001b[39;00m\u001b[38;5;21;01mwkt\u001b[39;00m \u001b[38;5;28;01mimport\u001b[39;00m loads\n",
      "\u001b[1;31mModuleNotFoundError\u001b[0m: No module named 'pandas'"
     ]
    }
   ],
   "source": [
    "import pandas as pd\n",
    "import geopandas as gpd\n",
    "from shapely.wkt import loads\n",
    "from shapely.geometry import Point, LineString\n",
    "from scipy.spatial import cKDTree\n",
    "import numpy as np\n"
   ]
  },
  {
   "cell_type": "markdown",
   "metadata": {},
   "source": [
    "### Load the Datasets\n",
    "Reads the DFT (Traffic Data) and OXM (Road Network Data) datasets into pandas DataFrames."
   ]
  },
  {
   "cell_type": "code",
   "execution_count": 12,
   "id": "load-data",
   "metadata": {},
   "outputs": [],
   "source": [
    "# Load datasets\n",
    "dft_path = \"data/dft_reduced.csv\"\n",
    "oxm_path = \"data/oxm_reduced.csv\"\n",
    "\n",
    "dft_df = pd.read_csv(dft_path)\n",
    "oxm_df = pd.read_csv(oxm_path)\n"
   ]
  },
  {
   "cell_type": "markdown",
   "metadata": {},
   "source": [
    "### Feature Selection\n",
    "Selects only the relevant columns from each dataset that will be useful for analysis."
   ]
  },
  {
   "cell_type": "code",
   "execution_count": 4,
   "id": "feature-selection",
   "metadata": {},
   "outputs": [],
   "source": [
    "# Selecting relevant columns\n",
    "dft_selected_cols = [\"count_point_id\", \"year\", \"road_name\", \"latitude\", \"longitude\", \"all_motor_vehicles\", \"cars_and_taxis\", \"buses_and_coaches\", \"lgvs\", \"all_hgvs\"]\n",
    "oxm_selected_cols = [\"name\", \"highway\", \"maxspeed\", \"length\", \"geometry\"]\n",
    "\n",
    "dft_filtered = dft_df[dft_selected_cols]\n",
    "oxm_filtered = oxm_df[oxm_selected_cols]\n"
   ]
  },
  {
   "cell_type": "markdown",
   "metadata": {},
   "source": [
    "### Handling Missing Values\n",
    "Drops rows with missing road names to ensure consistency during merging."
   ]
  },
  {
   "cell_type": "code",
   "execution_count": 5,
   "id": "missing-values",
   "metadata": {},
   "outputs": [
    {
     "name": "stderr",
     "output_type": "stream",
     "text": [
      "C:\\Users\\amirt\\AppData\\Local\\Temp\\ipykernel_17344\\1938880506.py:2: SettingWithCopyWarning: \n",
      "A value is trying to be set on a copy of a slice from a DataFrame\n",
      "\n",
      "See the caveats in the documentation: https://pandas.pydata.org/pandas-docs/stable/user_guide/indexing.html#returning-a-view-versus-a-copy\n",
      "  dft_filtered.dropna(subset=[\"road_name\"], inplace=True)\n",
      "C:\\Users\\amirt\\AppData\\Local\\Temp\\ipykernel_17344\\1938880506.py:3: SettingWithCopyWarning: \n",
      "A value is trying to be set on a copy of a slice from a DataFrame\n",
      "\n",
      "See the caveats in the documentation: https://pandas.pydata.org/pandas-docs/stable/user_guide/indexing.html#returning-a-view-versus-a-copy\n",
      "  oxm_filtered.dropna(subset=[\"name\"], inplace=True)\n"
     ]
    }
   ],
   "source": [
    "# Handling missing values\n",
    "dft_filtered.dropna(subset=[\"road_name\"], inplace=True)\n",
    "oxm_filtered.dropna(subset=[\"name\"], inplace=True)\n"
   ]
  },
  {
   "cell_type": "markdown",
   "metadata": {},
   "source": [
    "### Data Type Conversion\n",
    "- Converts 'maxspeed' from string format to numeric values.\n",
    "- Converts road geometries from WKT format to Shapely objects for spatial operations."
   ]
  },
  {
   "cell_type": "code",
   "execution_count": 6,
   "id": "convert-types",
   "metadata": {},
   "outputs": [
    {
     "name": "stderr",
     "output_type": "stream",
     "text": [
      "C:\\Users\\amirt\\AppData\\Local\\Temp\\ipykernel_17344\\3365964563.py:2: SettingWithCopyWarning: \n",
      "A value is trying to be set on a copy of a slice from a DataFrame.\n",
      "Try using .loc[row_indexer,col_indexer] = value instead\n",
      "\n",
      "See the caveats in the documentation: https://pandas.pydata.org/pandas-docs/stable/user_guide/indexing.html#returning-a-view-versus-a-copy\n",
      "  oxm_filtered[\"maxspeed\"] = oxm_filtered[\"maxspeed\"].astype(str).str.extract(\"(\\\\d+)\").astype(float)\n",
      "C:\\Users\\amirt\\AppData\\Local\\Temp\\ipykernel_17344\\3365964563.py:5: SettingWithCopyWarning: \n",
      "A value is trying to be set on a copy of a slice from a DataFrame.\n",
      "Try using .loc[row_indexer,col_indexer] = value instead\n",
      "\n",
      "See the caveats in the documentation: https://pandas.pydata.org/pandas-docs/stable/user_guide/indexing.html#returning-a-view-versus-a-copy\n",
      "  oxm_filtered[\"geometry\"] = oxm_filtered[\"geometry\"].apply(lambda x: loads(x) if isinstance(x, str) else x)\n"
     ]
    }
   ],
   "source": [
    "# Convert 'maxspeed' to numeric\n",
    "oxm_filtered[\"maxspeed\"] = oxm_filtered[\"maxspeed\"].astype(str).str.extract(\"(\\\\d+)\").astype(float)\n",
    "\n",
    "# Convert geometry column from WKT format to Shapely LineString objects\n",
    "oxm_filtered[\"geometry\"] = oxm_filtered[\"geometry\"].apply(lambda x: loads(x) if isinstance(x, str) else x)\n"
   ]
  },
  {
   "cell_type": "markdown",
   "metadata": {},
   "source": [
    "### Geospatial Processing\n",
    "- Converts latitude/longitude from the DFT dataset into a GeoDataFrame.\n",
    "- Converts road geometries in OXM into a GeoDataFrame.\n",
    "- Reprojects datasets to a metric-based coordinate system for accurate distance calculations."
   ]
  },
  {
   "cell_type": "code",
   "execution_count": 7,
   "id": "geospatial-processing",
   "metadata": {},
   "outputs": [],
   "source": [
    "# Convert DFT latitude/longitude into a GeoDataFrame\n",
    "dft_gdf = gpd.GeoDataFrame(dft_filtered, geometry=gpd.points_from_xy(dft_filtered.longitude, dft_filtered.latitude), crs=\"EPSG:4326\")\n",
    "\n",
    "# Convert OXM dataframe into a GeoDataFrame\n",
    "oxm_gdf = gpd.GeoDataFrame(oxm_filtered, geometry=oxm_filtered[\"geometry\"], crs=\"EPSG:4326\")\n",
    "\n",
    "# Reproject to metric-based CRS for accurate distance calculations\n",
    "dft_gdf = dft_gdf.to_crs(epsg=3857)\n",
    "oxm_gdf = oxm_gdf.to_crs(epsg=3857)\n",
    "\n",
    "# Extract centroid of road segments in OXM for proximity matching\n",
    "oxm_gdf[\"centroid\"] = oxm_gdf.geometry.centroid\n"
   ]
  },
  {
   "cell_type": "markdown",
   "metadata": {},
   "source": [
    "### Nearest-Neighbor Matching\n",
    "- Uses KDTree to find the nearest road segment for each traffic count point.\n",
    "- Associates traffic data with the closest road segment based on geospatial proximity."
   ]
  },
  {
   "cell_type": "code",
   "execution_count": 8,
   "id": "spatial-matching",
   "metadata": {},
   "outputs": [],
   "source": [
    "# Build KDTree for nearest-neighbor search\n",
    "oxm_tree = cKDTree(np.vstack([oxm_gdf.centroid.x, oxm_gdf.centroid.y]).T)\n",
    "\n",
    "# Find nearest road segment for each traffic count point\n",
    "distances, indices = oxm_tree.query(np.vstack([dft_gdf.geometry.x, dft_gdf.geometry.y]).T)\n",
    "\n",
    "# Attach nearest road data to DFT\n",
    "dft_gdf[\"nearest_road\"] = oxm_gdf.iloc[indices].name.values\n",
    "dft_gdf[\"nearest_road_length\"] = oxm_gdf.iloc[indices].length.values\n",
    "dft_gdf[\"nearest_road_maxspeed\"] = oxm_gdf.iloc[indices].maxspeed.values\n"
   ]
  },
  {
   "cell_type": "markdown",
   "metadata": {},
   "source": [
    "### Merge Traffic Data with Road Network\n",
    "Merges the DFT dataset with the OXM dataset based on the nearest matched road segment."
   ]
  },
  {
   "cell_type": "code",
   "execution_count": 9,
   "id": "merge-datasets",
   "metadata": {},
   "outputs": [],
   "source": [
    "# Merge DFT with matched OXM data\n",
    "merged_geo_df = dft_gdf.merge(oxm_gdf, left_on=\"nearest_road\", right_on=\"name\", how=\"left\")\n",
    "\n",
    "# Convert back to standard DataFrame\n",
    "merged_df_final = pd.DataFrame(merged_geo_df.drop(columns=['geometry', 'centroid'], errors='ignore'))\n"
   ]
  },
  {
   "cell_type": "markdown",
   "metadata": {},
   "source": [
    "### Save Processed Dataset\n"
   ]
  },
  {
   "cell_type": "code",
   "execution_count": 11,
   "id": "save-output",
   "metadata": {},
   "outputs": [],
   "source": [
    "# Save final merged dataset\n",
    "merged_df_final.to_csv(\"D:/coding project/DV project/data/final-data.csv\", index=False)\n"
   ]
  },
  {
   "cell_type": "markdown",
   "metadata": {},
   "source": [
    "### new data with time stamp \n"
   ]
  },
  {
   "cell_type": "code",
   "execution_count": null,
   "metadata": {},
   "outputs": [
    {
     "name": "stderr",
     "output_type": "stream",
     "text": [
      "C:\\Users\\Amir\\AppData\\Local\\Temp\\ipykernel_22568\\52706443.py:5: DtypeWarning: Columns (14,15) have mixed types. Specify dtype option on import or set low_memory=False.\n",
      "  df = pd.read_csv(file_path)\n"
     ]
    }
   ],
   "source": [
    "import pandas as pd\n",
    "\n",
    "#loading the data\n",
    "file_path = \"data/Original/dft_traffic_counts_raw_counts.csv\" \n",
    "df = pd.read_csv(file_path)\n",
    "\n",
    "# Filter data where region_name is \"London\"\n",
    "df_london = df[df[\"region_name\"] == \"London\"]\n",
    "\n",
    "# Randomly select 100,000 rows from London data\n",
    "df_sample = df_london.sample(n=100000, random_state=42)\n"
   ]
  },
  {
   "cell_type": "markdown",
   "metadata": {},
   "source": [
    "### Removing missing rows for columns \"start_junction_road_name\" and \"end_junction_road_name\""
   ]
  },
  {
   "cell_type": "code",
   "execution_count": 15,
   "metadata": {},
   "outputs": [],
   "source": [
    "# Remove rows where \"start_junction_road_name\" or \"end_junction_road_name\" are missing\n",
    "df_filtered = df_sample.dropna(subset=[\"start_junction_road_name\", \"end_junction_road_name\"])\n",
    "\n",
    "#saving the reduced dataset\n",
    "output_path = \"D:/Coding Projects/Traffic-management/data/traffic-df.csv\"\n",
    "df_filtered.to_csv(output_path, index= False)\n"
   ]
  },
  {
   "cell_type": "code",
   "execution_count": null,
   "metadata": {},
   "outputs": [
    {
     "name": "stdout",
     "output_type": "stream",
     "text": [
      "day_type\n",
      "Weekday    55871\n",
      "Name: count, dtype: int64\n"
     ]
    },
    {
     "name": "stderr",
     "output_type": "stream",
     "text": [
      "C:\\Users\\amirt\\AppData\\Local\\Temp\\ipykernel_11956\\2640617199.py:11: UserWarning: Parsing dates in %Y-%m-%d format when dayfirst=True was specified. Pass `dayfirst=False` or specify a format to silence this warning.\n",
      "  df_london['count_date'] = pd.to_datetime(df_london['count_date'], dayfirst=True, errors='coerce')\n"
     ]
    }
   ],
   "source": [
    "import pandas as pd\n",
    "\n",
    "# Load the dataset\n",
    "file_path = \"data/traffic-df.csv\"\n",
    "df = pd.read_csv(file_path)\n",
    "\n",
    "# Filter data for London region only\n",
    "df_london = df[df[\"region_name\"] == \"London\"]\n",
    "\n",
    "# Convert 'count_date' to datetime format\n",
    "df_london['count_date'] = pd.to_datetime(df_london['count_date'], dayfirst=True, errors='coerce')\n",
    "\n",
    "# Create 'day_type' to classify weekdays and weekends\n",
    "df_london['day_type'] = df_london['count_date'].dt.dayofweek.apply(lambda x: 'Weekend' if x >= 5 else 'Weekday')\n",
    "\n",
    "# Count occurrences of weekdays and weekends\n",
    "day_type_counts = df_london['day_type'].value_counts()\n",
    "\n",
    "# Print results\n",
    "print(day_type_counts)\n"
   ]
  }
 ],
 "metadata": {
  "kernelspec": {
   "display_name": "traffic",
   "language": "python",
   "name": "python3"
  },
  "language_info": {
   "codemirror_mode": {
    "name": "ipython",
    "version": 3
   },
   "file_extension": ".py",
   "mimetype": "text/x-python",
   "name": "python",
   "nbconvert_exporter": "python",
   "pygments_lexer": "ipython3",
   "version": "3.10.5"
  }
 },
 "nbformat": 4,
 "nbformat_minor": 4
}
